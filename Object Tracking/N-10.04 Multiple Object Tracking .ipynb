{
 "cells": [
  {
   "cell_type": "markdown",
   "metadata": {},
   "source": [
    "# <center> <font style=\"color:rgb(100,109,254)\"> Multiple object Tracking </font> </center>\n",
    "We have seen how Tracking API works, now there will be cases in which you will need to detect multiple object simultaneously, for this reason OpenCV another tracking API called MultiTracker API which deals with tracking multiple objects. The API itself is pretty simple, it just processes the tracked objects independently.\n"
   ]
  },
  {
   "cell_type": "code",
   "execution_count": 8,
   "metadata": {},
   "outputs": [],
   "source": [
    "# Importing Required libraries\n",
    "import cv2\n",
    "import numpy as np\n",
    "import sys\n",
    "import time\n",
    "import random"
   ]
  },
  {
   "cell_type": "markdown",
   "metadata": {},
   "source": [
    "## <font style=\"color:rgb(134,19,348)\">   Create The Tracker </font>\n",
    "The pipeline for multi tracking is almost the same as the Tracking API, like before you start of by multitracker creation, but you don't yet specify which tracker you're going to use."
   ]
  },
  {
   "cell_type": "code",
   "execution_count": 9,
   "metadata": {},
   "outputs": [],
   "source": [
    "# Creating a multi tracker object. \n",
    "MultiTracker = cv2.MultiTracker_create()"
   ]
  },
  {
   "cell_type": "markdown",
   "metadata": {},
   "source": [
    "**Reading the first Frame**"
   ]
  },
  {
   "cell_type": "code",
   "execution_count": 10,
   "metadata": {},
   "outputs": [],
   "source": [
    "# Read in the video on which we will perform tracking\n",
    "cap = cv2.VideoCapture(\"Media/M4/american_pharoah.mp4\")\n",
    "\n",
    "# Read the first frame\n",
    "ret, frame = cap.read() "
   ]
  },
  {
   "cell_type": "markdown",
   "metadata": {},
   "source": [
    "## <font style=\"color:rgb(134,19,348)\">  Specify the locations of all Objects to be Tracked  </font>\n",
    "Now we will store the bounding boxes of all target objects and store it in a list, we also want to draw each object with a unique color so we will store a random unique color for each tracked object, to be used later."
   ]
  },
  {
   "cell_type": "code",
   "execution_count": 11,
   "metadata": {},
   "outputs": [],
   "source": [
    "# List that will contain all bounding boxes.\n",
    "bounding_boxes = []\n",
    "\n",
    "# List that will contain all random unique colors.\n",
    "colors_list = [] "
   ]
  },
  {
   "cell_type": "markdown",
   "metadata": {},
   "source": [
    "**Create a loop in which we can select any number of objects to be tracked, we can exit by pressing `q`. And it goes without saying, the greater your number of objects, the more time it will take to track them.**"
   ]
  },
  {
   "cell_type": "code",
   "execution_count": 12,
   "metadata": {},
   "outputs": [
    {
     "name": "stdout",
     "output_type": "stream",
     "text": [
      "Selected Object No: 1 and box: (510, 257, 86, 56)\n",
      "Selected Object No: 2 and box: (595, 263, 88, 54)\n",
      "Selected Object No: 3 and box: (787, 341, 99, 48)\n"
     ]
    }
   ],
   "source": [
    "while True:\n",
    "    \n",
    "    # Select the bounding box\n",
    "    bounding_box = cv2.selectROI('MultiTracker', frame, False)    \n",
    "    \n",
    "    # Store the box in the list  \n",
    "    bounding_boxes.append(bounding_box)\n",
    "    \n",
    "    # Print the box and the bounding box\n",
    "    print('Selected Object No: {} and box: {}'.format(len(bounding_boxes), bounding_box))\n",
    "    \n",
    "    # Store a random color, all RGB channels are restricted to range 100-255, (we don't want dull colors)  \n",
    "    colors_list.append((random.randint(100, 255), random.randint(100, 255), random.randint(100, 255)))\n",
    "    \n",
    "    # Exit loop if ESC is pressed.\n",
    "    k=cv2.waitKey(0) \n",
    "    if k == 27:\n",
    "        break\n",
    "        \n",
    "cv2.destroyAllWindows()"
   ]
  },
  {
   "cell_type": "markdown",
   "metadata": {},
   "source": [
    "## <font style=\"color:rgb(134,19,348)\">   Add Trackers to the Multitracker Object  </font>\n",
    "For each bounding_box, add a tracker instance to the multitracker. We can do this by using **`multiTracker.add()`**. We are creating all individual trackers as `Boosting` but you can choose others as well.\n",
    "\n",
    "```Python\n",
    "cv2.MultiTracker.add(newTracker, image, boundingBox)```\n",
    "\n",
    "**Params**\n",
    "\n",
    "- **`newTracker`**\ttracking algorithm to be used\n",
    "- **`image`**\tinput image\n",
    "- **`boundingBox`**\ta rectangle represents ROI of the tracked object"
   ]
  },
  {
   "cell_type": "code",
   "execution_count": 13,
   "metadata": {},
   "outputs": [],
   "source": [
    "# Add a tracker for each bounding box.\n",
    "for bounding_box in bounding_boxes:\n",
    "    MultiTracker.add(cv2.TrackerBoosting_create(), frame, bounding_box)"
   ]
  },
  {
   "cell_type": "markdown",
   "metadata": {},
   "source": [
    "## <font style=\"color:rgb(134,19,348)\">  Track All Objects  </font>\n",
    "Now we will track all object like we did with the single Tracker, since multiple tracked objects are returned by updating the multitracker `MultiTracker.update()` we will process them in another loop.\n",
    "\n",
    "```Python\n",
    "retval, boundingBox = cv2.MultiTracker.update(image)\n",
    "```\n",
    "- **`image:`**\tInput image\n",
    "- **`boundingBox:`** The tracking result, represent a list of ROIs of the tracked objects.\n"
   ]
  },
  {
   "cell_type": "code",
   "execution_count": 14,
   "metadata": {},
   "outputs": [],
   "source": [
    "# Doing the required initialization again, so you can run this cell again multiple times\n",
    "cap = cv2.VideoCapture(\"Media/M4/american_pharoah.mp4\")\n",
    "\n",
    "while 1:\n",
    "    ret, frame = cap.read()\n",
    "    if not ret:\n",
    "        break\n",
    "\n",
    "    # Get updated location of objects in subsequent frames\n",
    "    status, new_bounding_boxes = MultiTracker.update(frame)\n",
    "\n",
    "    # Draw tracked objects\n",
    "    for index, bounding_box in enumerate(new_bounding_boxes):\n",
    "        # Extract coordinates\n",
    "        x, y, width, height = int(bounding_box[0]), int(bounding_box[1]), int(bounding_box[2]), int(bounding_box[3])\n",
    "        # Draw the rectangle using color list and the index.\n",
    "        cv2.rectangle(frame, (x,y), (x+width, y+height), colors_list[index] , 3 , cv2.LINE_AA )\n",
    "\n",
    "    # Show results.\n",
    "    cv2.imshow('MultiTracker', frame)\n",
    "\n",
    "    k = cv2.waitKey(1) \n",
    "    if k == 27 : \n",
    "        break\n",
    "    \n",
    "cv2.destroyAllWindows()\n",
    "cap.release()"
   ]
  },
  {
   "cell_type": "markdown",
   "metadata": {},
   "source": [
    "**Note: In order to see the tracking again, You have to re run the above cells as the Multitracker object has been updated with all the previous frames**"
   ]
  },
  {
   "cell_type": "markdown",
   "metadata": {},
   "source": [
    "###  <font style=\"color:rgb(34,169,134)\"> Assignment: Multitracter with different trackers. </font>\n",
    "Your task is to create a single function that does all the above and also have such an ability that for each object the user can specify a certain tracker type of his/her own choosing"
   ]
  },
  {
   "cell_type": "code",
   "execution_count": null,
   "metadata": {},
   "outputs": [],
   "source": [
    "### ADD CODE HERE\n",
    "\n"
   ]
  }
 ],
 "metadata": {
  "kernelspec": {
   "display_name": "Python 3",
   "language": "python",
   "name": "python3"
  },
  "language_info": {
   "codemirror_mode": {
    "name": "ipython",
    "version": 3
   },
   "file_extension": ".py",
   "mimetype": "text/x-python",
   "name": "python",
   "nbconvert_exporter": "python",
   "pygments_lexer": "ipython3",
   "version": "3.6.10"
  }
 },
 "nbformat": 4,
 "nbformat_minor": 2
}
